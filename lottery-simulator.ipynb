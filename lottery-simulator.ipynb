{
 "cells": [
  {
   "cell_type": "markdown",
   "id": "3206920f",
   "metadata": {},
   "source": [
    "# Lottery Simulator\n",
    "\n",
    "### It could be you... Or not, who knows"
   ]
  },
  {
   "cell_type": "code",
   "execution_count": null,
   "id": "0344a18c",
   "metadata": {},
   "outputs": [],
   "source": [
    "# Imports\n",
    "import random\n",
    "\n",
    "# Choose 6 numbers\n",
    "numbers = [14,8,22,34,19,29]\n",
    "\n",
    "# Set variables\n",
    "n_balls = 59\n",
    "n_attempts = 30000000\n",
    "life_expectancy = 81"
   ]
  },
  {
   "cell_type": "code",
   "execution_count": null,
   "id": "c2aa2615",
   "metadata": {},
   "outputs": [],
   "source": [
    "# Lottery machine function\n",
    "# Picks 6 balls plus a bonus ball\n",
    "def number_picker():\n",
    "    balls = list(range(1, n_balls + 1))\n",
    "    n_balls_remaining = n_balls\n",
    "    winning_numbers = []\n",
    "    for i in range(7):\n",
    "        selection = random.randint(0, n_balls_remaining - 1)\n",
    "        ball = balls[selection]\n",
    "        winning_numbers.append(ball)\n",
    "        del balls[selection]\n",
    "        n_balls_remaining -= 1\n",
    "    bonus_ball = winning_numbers[-1]\n",
    "    del winning_numbers[-1]\n",
    "    return(winning_numbers, bonus_ball)"
   ]
  },
  {
   "cell_type": "code",
   "execution_count": null,
   "id": "f670b9a9",
   "metadata": {},
   "outputs": [],
   "source": [
    "# Run simulation until a win or number of attempts reached\n",
    "life_expectancy_weeks = int(round(life_expectancy * 365.25 / 52))\n",
    "counter = 0\n",
    "win = False\n",
    "spent = 0\n",
    "winnings = 0\n",
    "while win == False and counter < n_attempts:\n",
    "    counter += 1\n",
    "    spent += 2\n",
    "    winning_numbers, bonus_ball = number_picker()\n",
    "    n_correct_numbers = len(set(numbers).intersection(winning_numbers))\n",
    "    if n_correct_numbers == 2:\n",
    "        spent -= 2\n",
    "    elif n_correct_numbers == 3:\n",
    "        winnings += 30\n",
    "    elif n_correct_numbers == 4:\n",
    "        winnings += 140\n",
    "    elif n_correct_numbers == 5:\n",
    "        if bonus_ball in numbers:\n",
    "            winnings += 1000000\n",
    "        else:\n",
    "            winnings += 1750\n",
    "    elif n_correct_numbers == 6:\n",
    "        winnings += 3800000\n",
    "        win = True\n",
    "        print(f\"Won the lottery after {counter} attempts. That's {counter // 52} years or {counter // life_expectancy_weeks} lifetimes!\")\n",
    "        print(f\"Spent £{spent}, won £{winnings}, net winnings £{winnings - spent}.\")\n",
    "    if counter % 1000000 == 0:\n",
    "        print(f\"Won £{winnings} after spending £{spent} on {int(counter/1000000)} million attempts. Net winnings £{winnings - spent}.\")"
   ]
  }
 ],
 "metadata": {
  "kernelspec": {
   "display_name": "Python 3 (ipykernel)",
   "language": "python",
   "name": "python3"
  },
  "language_info": {
   "codemirror_mode": {
    "name": "ipython",
    "version": 3
   },
   "file_extension": ".py",
   "mimetype": "text/x-python",
   "name": "python",
   "nbconvert_exporter": "python",
   "pygments_lexer": "ipython3",
   "version": "3.9.16"
  }
 },
 "nbformat": 4,
 "nbformat_minor": 5
}
